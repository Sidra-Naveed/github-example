{
 "cells": [
  {
   "cell_type": "markdown",
   "metadata": {},
   "source": [
    "# This is the week 3 peer graded assignment"
   ]
  },
  {
   "cell_type": "markdown",
   "metadata": {},
   "source": [
    "<h4> First importing all the libraries required  <h4> "
   ]
  },
  {
   "cell_type": "code",
   "execution_count": 1,
   "metadata": {},
   "outputs": [
    {
     "name": "stdout",
     "output_type": "stream",
     "text": [
      "Collecting package metadata (current_repodata.json): done\n",
      "Solving environment: - \n",
      "Warning: 8 possible package resolutions (only showing differing packages):\n",
      "  - anaconda/linux-64::ca-certificates-2020.1.1-0, anaconda/linux-64::certifi-2020.4.5.1-py36_0, anaconda/linux-64::lxml-4.5.0-py36hefd8a0e_0\n",
      "  - anaconda/linux-64::ca-certificates-2020.1.1-0, anaconda/linux-64::certifi-2020.4.5.1-py36_0, defaults/linux-64::lxml-4.5.0-py36hefd8a0e_0\n",
      "  - anaconda/linux-64::certifi-2020.4.5.1-py36_0, anaconda/linux-64::lxml-4.5.0-py36hefd8a0e_0, defaults/linux-64::ca-certificates-2020.1.1-0\n",
      "  - anaconda/linux-64::certifi-2020.4.5.1-py36_0, defaults/linux-64::ca-certificates-2020.1.1-0, defaults/linux-64::lxml-4.5.0-py36hefd8a0e_0\n",
      "  - anaconda/linux-64::lxml-4.5.0-py36hefd8a0e_0, defaults/linux-64::ca-certificates-2020.1.1-0, defaults/linux-64::certifi-2020.4.5.1-py36_0\n",
      "  - defaults/linux-64::ca-certificates-2020.1.1-0, defaults/linux-64::certifi-2020.4.5.1-py36_0, defaults/linux-64::lxml-4.5.0-py36hefd8a0e_0\n",
      "  - anaconda/linux-64::ca-certificates-2020.1.1-0, anaconda/linux-64::lxml-4.5.0-py36hefd8a0e_0, defaults/linux-64::certifi-2020.4.5.1-py36_0\n",
      "  - anaconda/linux-64::ca-certificates-2020.1.1-0, defaults/linux-64::certifi-2020.4.5.1-py36_0, defaults/linux-64::lxml-4.5.0-py36hefd8a0edone\n",
      "\n",
      "# All requested packages already installed.\n",
      "\n"
     ]
    }
   ],
   "source": [
    "import pandas as pd\n",
    "!conda install -c conda lxml --yes"
   ]
  },
  {
   "cell_type": "code",
   "execution_count": 2,
   "metadata": {},
   "outputs": [
    {
     "name": "stdout",
     "output_type": "stream",
     "text": [
      "Requirement already satisfied: et_xmlfile in /home/jupyterlab/conda/envs/python/lib/python3.6/site-packages (1.0.1)\n"
     ]
    }
   ],
   "source": [
    "!pip install et_xmlfile"
   ]
  },
  {
   "cell_type": "code",
   "execution_count": 3,
   "metadata": {},
   "outputs": [
    {
     "name": "stdout",
     "output_type": "stream",
     "text": [
      "Requirement already satisfied: bs4 in /home/jupyterlab/conda/envs/python/lib/python3.6/site-packages (0.0.1)\n",
      "Requirement already satisfied: beautifulsoup4 in /home/jupyterlab/conda/envs/python/lib/python3.6/site-packages (from bs4) (4.8.2)\n",
      "Requirement already satisfied: soupsieve>=1.2 in /home/jupyterlab/conda/envs/python/lib/python3.6/site-packages (from beautifulsoup4->bs4) (2.0)\n"
     ]
    }
   ],
   "source": [
    "!pip install bs4"
   ]
  },
  {
   "cell_type": "code",
   "execution_count": 4,
   "metadata": {},
   "outputs": [
    {
     "name": "stdout",
     "output_type": "stream",
     "text": [
      "Requirement already satisfied: html5lib in /home/jupyterlab/conda/envs/python/lib/python3.6/site-packages (0.9999999)\n",
      "Requirement already satisfied: six in /home/jupyterlab/conda/envs/python/lib/python3.6/site-packages (from html5lib) (1.14.0)\n"
     ]
    }
   ],
   "source": [
    "!pip install html5lib"
   ]
  },
  {
   "cell_type": "code",
   "execution_count": 5,
   "metadata": {},
   "outputs": [
    {
     "name": "stdout",
     "output_type": "stream",
     "text": [
      "Requirement already satisfied: lxml in /home/jupyterlab/conda/envs/python/lib/python3.6/site-packages (4.5.0)\n"
     ]
    }
   ],
   "source": [
    "!pip install lxml"
   ]
  },
  {
   "cell_type": "code",
   "execution_count": 6,
   "metadata": {},
   "outputs": [],
   "source": [
    "import bs4.builder._lxml"
   ]
  },
  {
   "cell_type": "code",
   "execution_count": 7,
   "metadata": {},
   "outputs": [],
   "source": [
    "from lxml import etree"
   ]
  },
  {
   "cell_type": "code",
   "execution_count": 8,
   "metadata": {},
   "outputs": [],
   "source": [
    "import requests \n",
    "from bs4 import BeautifulSoup"
   ]
  },
  {
   "cell_type": "code",
   "execution_count": 9,
   "metadata": {},
   "outputs": [],
   "source": [
    "#scraping the wiki table\n",
    "\n",
    "res = requests.get(\"https://en.wikipedia.org/wiki/List_of_postal_codes_of_Canada:_M\")\n",
    "\n",
    "soup = BeautifulSoup(res.content,'lxml')\n",
    "\n",
    "table = soup.find_all('table')[0]\n",
    "\n",
    "df = pd.read_html(str(table))"
   ]
  },
  {
   "cell_type": "code",
   "execution_count": 11,
   "metadata": {},
   "outputs": [
    {
     "data": {
      "text/plain": [
       "[    Postal code           Borough  \\\n",
       " 0           M1A      Not assigned   \n",
       " 1           M2A      Not assigned   \n",
       " 2           M3A        North York   \n",
       " 3           M4A        North York   \n",
       " 4           M5A  Downtown Toronto   \n",
       " ..          ...               ...   \n",
       " 175         M5Z      Not assigned   \n",
       " 176         M6Z      Not assigned   \n",
       " 177         M7Z      Not assigned   \n",
       " 178         M8Z         Etobicoke   \n",
       " 179         M9Z      Not assigned   \n",
       " \n",
       "                                           Neighborhood  \n",
       " 0                                                  NaN  \n",
       " 1                                                  NaN  \n",
       " 2                                            Parkwoods  \n",
       " 3                                     Victoria Village  \n",
       " 4                           Regent Park / Harbourfront  \n",
       " ..                                                 ...  \n",
       " 175                                                NaN  \n",
       " 176                                                NaN  \n",
       " 177                                                NaN  \n",
       " 178  Mimico NW / The Queensway West / South of Bloo...  \n",
       " 179                                                NaN  \n",
       " \n",
       " [180 rows x 3 columns]]"
      ]
     },
     "execution_count": 11,
     "metadata": {},
     "output_type": "execute_result"
    }
   ],
   "source": [
    "df"
   ]
  },
  {
   "cell_type": "code",
   "execution_count": null,
   "metadata": {},
   "outputs": [],
   "source": []
  }
 ],
 "metadata": {
  "kernelspec": {
   "display_name": "Python",
   "language": "python",
   "name": "conda-env-python-py"
  },
  "language_info": {
   "codemirror_mode": {
    "name": "ipython",
    "version": 3
   },
   "file_extension": ".py",
   "mimetype": "text/x-python",
   "name": "python",
   "nbconvert_exporter": "python",
   "pygments_lexer": "ipython3",
   "version": "3.6.10"
  }
 },
 "nbformat": 4,
 "nbformat_minor": 4
}
